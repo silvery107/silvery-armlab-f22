{
  "cells": [
    {
      "cell_type": "code",
      "execution_count": 1,
      "metadata": {
        "id": "zydAvyfYpJME"
      },
      "outputs": [
        {
          "name": "stderr",
          "output_type": "stream",
          "text": [
            "/home/silvery/.local/lib/python3.6/site-packages/torchvision/transforms/transforms.py:288: UserWarning: Argument interpolation should be of type InterpolationMode instead of int. Please, use InterpolationMode enum.\n",
            "  \"Argument interpolation should be of type InterpolationMode instead of int. \"\n"
          ]
        }
      ],
      "source": [
        "import numpy as np\n",
        "import torch\n",
        "import cv2 as cv\n",
        "import glob\n",
        "import os\n",
        "import matplotlib.pyplot as plt\n",
        "from models.model import RoboBlockNet, BlocksDataset\n",
        "# from google.colab.patches import cv2_imshow"
      ]
    },
    {
      "cell_type": "markdown",
      "metadata": {},
      "source": [
        " ```py\n",
        " def forward(self, imgs, size=640, augment=False, profile=False): \n",
        "     # Inference from various sources. For height=640, width=1280, RGB images example inputs are: \n",
        "     #   filename:   imgs = 'data/images/zidane.jpg' \n",
        "     #   URI:             = 'https://github.com/ultralytics/yolov5/releases/download/v1.0/zidane.jpg' \n",
        "     #   OpenCV:          = cv2.imread('image.jpg')[:,:,::-1]  # HWC BGR to RGB x(640,1280,3) \n",
        "     #   PIL:             = Image.open('image.jpg')  # HWC x(640,1280,3) \n",
        "     #   numpy:           = np.zeros((640,1280,3))  # HWC \n",
        "     #   torch:           = torch.zeros(16,3,320,640)  # BCHW (scaled to size=640, 0-1 values) \n",
        "     #   multiple:        = [Image.open('image1.jpg'), Image.open('image2.jpg'), ...]  # list of images \n",
        "```"
      ]
    },
    {
      "cell_type": "markdown",
      "metadata": {
        "id": "4ObEtW-HG1M7"
      },
      "source": [
        "Class for loading labelled data for presentation to the NN"
      ]
    },
    {
      "cell_type": "markdown",
      "metadata": {
        "id": "286_8YIyG7o7"
      },
      "source": [
        "The Neural Network architecture"
      ]
    },
    {
      "cell_type": "markdown",
      "metadata": {
        "id": "nfRrTKg4G_Sd"
      },
      "source": [
        "Test & Train Datasets\n"
      ]
    },
    {
      "cell_type": "code",
      "execution_count": 2,
      "metadata": {
        "colab": {
          "base_uri": "https://localhost:8080/"
        },
        "id": "opjuMul2pous",
        "outputId": "d57c11d6-1498-41eb-d8e9-9461a0491411"
      },
      "outputs": [],
      "source": [
        "img_dir = \"data/rgb_new\"\n",
        "depth_dir = \"data/depth\"\n",
        "train_labels_dir = \"data/segmentations\"\n",
        "test_labels_dir = train_labels_dir#\"data/test_segmentation/\"\n",
        "train_dataset = BlocksDataset(img_dir, depth_dir, train_labels_dir)\n",
        "test_dataset = BlocksDataset(img_dir, depth_dir, test_labels_dir)\n",
        "train_dataloader = torch.utils.data.DataLoader(train_dataset, batch_size=4, shuffle=True)#, num_workers=4)\n",
        "test_dataloader = torch.utils.data.DataLoader(test_dataset, batch_size=1, shuffle=True)#, num_workers=4)"
      ]
    },
    {
      "cell_type": "markdown",
      "metadata": {
        "id": "X1x-geG8HCW5"
      },
      "source": [
        "Instantiate the model & send to the GPU"
      ]
    },
    {
      "cell_type": "code",
      "execution_count": 3,
      "metadata": {
        "colab": {
          "base_uri": "https://localhost:8080/"
        },
        "id": "d5T5XC0I1DCU",
        "outputId": "5ff43079-40ee-435f-e982-00d7f497e747"
      },
      "outputs": [],
      "source": [
        "device = \"cpu\"\n",
        "model = RoboBlockNet()\n",
        "model = model.to(device)"
      ]
    },
    {
      "cell_type": "markdown",
      "metadata": {
        "id": "M--Ota_aHGRn"
      },
      "source": [
        "Perform Training"
      ]
    },
    {
      "cell_type": "code",
      "execution_count": 4,
      "metadata": {
        "colab": {
          "base_uri": "https://localhost:8080/"
        },
        "id": "Q3DBxcmQD7e9",
        "outputId": "51a02800-19e2-4e33-941f-125d1c55fe9a"
      },
      "outputs": [
        {
          "name": "stdout",
          "output_type": "stream",
          "text": [
            "epoch 0\n"
          ]
        },
        {
          "name": "stderr",
          "output_type": "stream",
          "text": [
            "/home/silvery/.local/lib/python3.6/site-packages/torch/nn/modules/container.py:141: UserWarning: Implicit dimension choice for softmax has been deprecated. Change the call to include dim=X as an argument.\n",
            "  input = module(input)\n"
          ]
        },
        {
          "name": "stdout",
          "output_type": "stream",
          "text": [
            "1.9511182308197021\n",
            "epoch 1\n",
            "1.7633482217788696\n",
            "epoch 2\n",
            "1.7921427488327026\n",
            "epoch 3\n",
            "1.7452839612960815\n",
            "epoch 4\n",
            "1.5898150205612183\n",
            "epoch 5\n",
            "1.5026192665100098\n",
            "epoch 6\n",
            "1.3731402158737183\n",
            "epoch 7\n",
            "1.3316640853881836\n",
            "epoch 8\n",
            "1.3191038370132446\n",
            "epoch 9\n",
            "1.3303313255310059\n",
            "epoch 10\n",
            "1.3610047101974487\n",
            "epoch 11\n",
            "1.3491805791854858\n",
            "epoch 12\n",
            "1.310568928718567\n",
            "epoch 13\n",
            "1.3009511232376099\n",
            "epoch 14\n",
            "1.2948130369186401\n",
            "epoch 15\n",
            "1.2885535955429077\n",
            "epoch 16\n",
            "1.2828357219696045\n",
            "epoch 17\n",
            "1.2777180671691895\n",
            "epoch 18\n",
            "1.2731058597564697\n",
            "epoch 19\n",
            "1.2692561149597168\n",
            "epoch 20\n",
            "1.2656234502792358\n",
            "epoch 21\n",
            "1.2617515325546265\n",
            "epoch 22\n",
            "1.2580444812774658\n",
            "epoch 23\n",
            "1.255111813545227\n",
            "epoch 24\n",
            "1.2528702020645142\n",
            "epoch 25\n",
            "1.2489186525344849\n",
            "epoch 26\n",
            "1.2388395071029663\n",
            "epoch 27\n",
            "1.221566915512085\n",
            "epoch 28\n",
            "1.2230682373046875\n",
            "epoch 29\n",
            "1.2190316915512085\n",
            "epoch 30\n",
            "1.2161508798599243\n",
            "epoch 31\n",
            "1.2145991325378418\n",
            "epoch 32\n",
            "1.2123290300369263\n",
            "epoch 33\n",
            "1.210383415222168\n",
            "epoch 34\n",
            "1.2086950540542603\n",
            "epoch 35\n",
            "1.207112193107605\n",
            "epoch 36\n",
            "1.2054212093353271\n",
            "epoch 37\n",
            "1.203662633895874\n",
            "epoch 38\n",
            "1.2022898197174072\n",
            "epoch 39\n",
            "1.2007979154586792\n",
            "epoch 40\n",
            "1.1995896100997925\n",
            "epoch 41\n",
            "1.1984021663665771\n",
            "epoch 42\n",
            "1.1970900297164917\n",
            "epoch 43\n",
            "1.1956075429916382\n",
            "epoch 44\n",
            "1.194042444229126\n",
            "epoch 45\n",
            "1.1927475929260254\n",
            "epoch 46\n",
            "1.191330909729004\n",
            "epoch 47\n",
            "1.1898566484451294\n",
            "epoch 48\n",
            "1.1884056329727173\n",
            "epoch 49\n",
            "1.1871346235275269\n",
            "epoch 50\n",
            "1.185570240020752\n",
            "epoch 51\n",
            "1.1843246221542358\n",
            "epoch 52\n",
            "1.1834003925323486\n",
            "epoch 53\n",
            "1.1820422410964966\n",
            "epoch 54\n",
            "1.180932641029358\n",
            "epoch 55\n",
            "1.1799216270446777\n",
            "epoch 56\n",
            "1.1789313554763794\n",
            "epoch 57\n",
            "1.178464651107788\n",
            "epoch 58\n",
            "1.177818775177002\n",
            "epoch 59\n",
            "1.1771444082260132\n",
            "epoch 60\n",
            "1.1766984462738037\n",
            "epoch 61\n",
            "1.1762428283691406\n",
            "epoch 62\n",
            "1.1757429838180542\n",
            "epoch 63\n",
            "1.1755125522613525\n",
            "epoch 64\n",
            "1.1751892566680908\n",
            "epoch 65\n",
            "1.1748348474502563\n",
            "epoch 66\n",
            "1.1745654344558716\n",
            "epoch 67\n",
            "1.1743500232696533\n",
            "epoch 68\n",
            "1.1741018295288086\n",
            "epoch 69\n",
            "1.1738290786743164\n",
            "epoch 70\n",
            "1.1735961437225342\n",
            "epoch 71\n",
            "1.1734912395477295\n",
            "epoch 72\n",
            "1.17332124710083\n",
            "epoch 73\n",
            "1.173071026802063\n",
            "epoch 74\n",
            "1.172964096069336\n",
            "epoch 75\n",
            "1.172761082649231\n",
            "epoch 76\n",
            "1.1726804971694946\n",
            "epoch 77\n",
            "1.1725561618804932\n",
            "epoch 78\n",
            "1.1724302768707275\n",
            "epoch 79\n",
            "1.1722757816314697\n",
            "epoch 80\n",
            "1.1722915172576904\n",
            "epoch 81\n",
            "1.172126054763794\n",
            "epoch 82\n",
            "1.1720547676086426\n",
            "epoch 83\n",
            "1.1719197034835815\n",
            "epoch 84\n",
            "1.1718411445617676\n",
            "epoch 85\n",
            "1.1718378067016602\n",
            "epoch 86\n",
            "1.1716750860214233\n",
            "epoch 87\n",
            "1.1715737581253052\n",
            "epoch 88\n",
            "1.1715513467788696\n",
            "epoch 89\n",
            "1.171465516090393\n",
            "epoch 90\n",
            "1.1714051961898804\n",
            "epoch 91\n",
            "1.1713500022888184\n",
            "epoch 92\n",
            "1.1713134050369263\n",
            "epoch 93\n",
            "1.1712480783462524\n",
            "epoch 94\n",
            "1.171168327331543\n",
            "epoch 95\n",
            "1.1711485385894775\n",
            "epoch 96\n",
            "1.1710562705993652\n",
            "epoch 97\n",
            "1.1710354089736938\n",
            "epoch 98\n",
            "1.1710023880004883\n",
            "epoch 99\n",
            "1.1709342002868652\n"
          ]
        }
      ],
      "source": [
        "num_epochs = 100\n",
        "loss_fn = torch.nn.CrossEntropyLoss(weight = torch.Tensor([1, 250, 250, 250, 250, 250, 250]).to(device))\n",
        "optimizer = torch.optim.Adam(model.parameters(), lr=0.001)\n",
        "for i in range(num_epochs):\n",
        "  print(\"epoch {0}\".format(i))\n",
        "  for batch in iter(train_dataloader):\n",
        "    input_img = batch['rgb_sized'].to(device) # (1, 3, 244, 244)\n",
        "    output_pred = model(input_img)        # (B, C, H, W) <--> (1, 7, 244, 244) \n",
        "    # batch['segmentation_sized'] (1, 1, 244, 244)\n",
        "    output_gt = batch['segmentation_sized'].squeeze(1).to(device) # (1, 244, 244)\n",
        "    batch_loss = loss_fn(output_pred, output_gt.to(torch.long))\n",
        "    batch_loss.backward()\n",
        "    optimizer.step()\n",
        "    optimizer.zero_grad()\n",
        "    print(batch_loss.item())"
      ]
    },
    {
      "cell_type": "markdown",
      "metadata": {
        "id": "1raVDjIOHInE"
      },
      "source": [
        "Check output against a training dataset ground truth"
      ]
    },
    {
      "cell_type": "code",
      "execution_count": 5,
      "metadata": {
        "id": "pvSrdW-jP0sA"
      },
      "outputs": [],
      "source": [
        "# model.eval()\n",
        "# outputs = []\n",
        "# gts = []\n",
        "# for batch in iter(train_dataloader):\n",
        "#   input_img = batch['rgb_sized'].cuda()\n",
        "#   output_tensor = torch.argmax(model(input_img),1) # model(input_img) (1, 7, 244, 244)\n",
        "#   outputs.append(output_tensor.squeeze(0)) # output_tensor (1, 244, 244)\n",
        "#   print(output_tensor.shape)\n",
        "#   print(batch['segmentation_sized'].shape)\n",
        "#   # output_tensor.squeeze(0) (244, 244)\n",
        "#   # batch['segmentation_sized'] (1, 1, 244, 244)\n",
        "#   gts.append(batch['segmentation_sized'].squeeze().cuda()) # gts[0] (244, 244)"
      ]
    },
    {
      "cell_type": "code",
      "execution_count": 6,
      "metadata": {
        "colab": {
          "base_uri": "https://localhost:8080/",
          "height": 241
        },
        "id": "damE5sLpQa06",
        "outputId": "f971ff37-49b0-42f5-ee50-28ab5e8821a6"
      },
      "outputs": [],
      "source": [
        "# plt.imshow(outputs[0].cpu().numpy() * 255/6, cmap='gray')\n",
        "# plt.show()"
      ]
    },
    {
      "cell_type": "code",
      "execution_count": 7,
      "metadata": {
        "colab": {
          "base_uri": "https://localhost:8080/",
          "height": 241
        },
        "id": "CFdny3P1SP0c",
        "outputId": "355bae46-e34c-4af3-87d9-2eadd9e8217f"
      },
      "outputs": [],
      "source": [
        "# test = gts[0].cpu().numpy()\n",
        "# print(test.shape)\n",
        "# plt.imshow(gts[0].cpu().numpy() * 255/6, cmap='gray')\n",
        "# plt.show()"
      ]
    },
    {
      "cell_type": "markdown",
      "metadata": {
        "id": "3z3Qi_R4HNjl"
      },
      "source": [
        "Check Output against a new image (test dataset) ground truth"
      ]
    },
    {
      "cell_type": "code",
      "execution_count": 8,
      "metadata": {
        "id": "1drqcssrgAZy"
      },
      "outputs": [],
      "source": [
        "model.eval()\n",
        "outputs = []\n",
        "gts = []\n",
        "for batch in iter(test_dataloader):\n",
        "  input_img = batch['rgb_sized'].to(device)\n",
        "  output_tensor = torch.argmax(model(input_img),1)\n",
        "  outputs.append(output_tensor.squeeze(0))\n",
        "  gts.append(batch['segmentation_sized'].squeeze().to(device))"
      ]
    },
    {
      "cell_type": "code",
      "execution_count": 9,
      "metadata": {
        "colab": {
          "base_uri": "https://localhost:8080/",
          "height": 241
        },
        "id": "5fvC0Q9pgFG6",
        "outputId": "22fc4ea3-4679-402d-ca22-dc0b4ac4394d"
      },
      "outputs": [
        {
          "data": {
            "image/png": "[encoded data removed]",
            "text/plain": [
              "<Figure size 432x288 with 1 Axes>"
            ]
          },
          "metadata": {
            "needs_background": "light"
          },
          "output_type": "display_data"
        }
      ],
      "source": [
        "output_pair = np.concatenate([output.cpu().numpy() for output in outputs], axis=1)\n",
        "gt_pair = np.concatenate([gt.cpu().numpy() for gt in gts], axis=1)\n",
        "img_pair = np.row_stack((output_pair, gt_pair))\n",
        "plt.imshow(img_pair * 255/6, cmap='gray')\n",
        "plt.axis('off')\n",
        "plt.show()"
      ]
    },
    {
      "cell_type": "code",
      "execution_count": 10,
      "metadata": {},
      "outputs": [],
      "source": [
        "torch.save(model, \"models/model_fcn_re101_cpu.pth\")"
      ]
    },
    {
      "cell_type": "code",
      "execution_count": 11,
      "metadata": {
        "colab": {
          "base_uri": "https://localhost:8080/",
          "height": 241
        },
        "id": "LGjpaDydgFLH",
        "outputId": "7708a9a1-54fe-4cfd-d1e2-fa64bba67dde"
      },
      "outputs": [],
      "source": [
        "# plt.imshow(gts[0].cpu().numpy() * 255/6, cmap='gray')\n",
        "# plt.show()"
      ]
    },
    {
      "cell_type": "code",
      "execution_count": 12,
      "metadata": {},
      "outputs": [],
      "source": [
        "model_test = torch.load(\"models/model_fcn_re101_cpu.pth\")\n",
        "model_test.eval()\n",
        "outputs = []\n",
        "gts = []\n",
        "for batch in iter(test_dataloader):\n",
        "  input_img = batch['rgb_sized'].to(device)\n",
        "  output_tensor = torch.argmax(model_test(input_img),1)\n",
        "  outputs.append(output_tensor.squeeze(0))\n",
        "  gts.append(batch['segmentation_sized'].squeeze().to(device))"
      ]
    },
    {
      "cell_type": "code",
      "execution_count": 13,
      "metadata": {},
      "outputs": [
        {
          "data": {
            "image/png": "[encoded data removed]",
            "text/plain": [
              "<Figure size 432x288 with 1 Axes>"
            ]
          },
          "metadata": {
            "needs_background": "light"
          },
          "output_type": "display_data"
        }
      ],
      "source": [
        "output_pair = np.concatenate([output.cpu().numpy() for output in outputs], axis=1)\n",
        "gt_pair = np.concatenate([gt.cpu().numpy() for gt in gts], axis=1)\n",
        "img_pair = np.row_stack((output_pair, gt_pair))\n",
        "plt.imshow(img_pair * 255/6, cmap='gray')\n",
        "plt.axis('off')\n",
        "plt.show()"
      ]
    }
  ],
  "metadata": {
    "accelerator": "GPU",
    "colab": {
      "collapsed_sections": [],
      "provenance": []
    },
    "kernelspec": {
      "display_name": "Python 3.6.9 64-bit",
      "language": "python",
      "name": "python3"
    },
    "language_info": {
      "codemirror_mode": {
        "name": "ipython",
        "version": 3
      },
      "file_extension": ".py",
      "mimetype": "text/x-python",
      "name": "python",
      "nbconvert_exporter": "python",
      "pygments_lexer": "ipython3",
      "version": "3.6.9"
    },
    "vscode": {
      "interpreter": {
        "hash": "31f2aee4e71d21fbe5cf8b01ff0e069b9275f58929596ceb00d14d90e3e16cd6"
      }
    }
  },
  "nbformat": 4,
  "nbformat_minor": 0
}
